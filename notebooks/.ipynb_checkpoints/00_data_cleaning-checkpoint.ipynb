{
 "cells": [
  {
   "cell_type": "code",
   "execution_count": 45,
   "id": "initial_id",
   "metadata": {},
   "outputs": [],
   "source": [
    "import pandas as pd"
   ]
  },
  {
   "cell_type": "code",
   "execution_count": 46,
   "id": "e9fee4c7-2c38-41f3-8055-59f11e4e3715",
   "metadata": {},
   "outputs": [],
   "source": [
    "df = pd.read_csv(\"/Users/pintoza/Desktop/dev/data-science/fast-food-nutrition/data/processed/items_with_class.csv\")"
   ]
  },
  {
   "cell_type": "code",
   "execution_count": 47,
   "id": "bda58259-b016-472f-b0bf-a2d0e306d67b",
   "metadata": {},
   "outputs": [
    {
     "data": {
      "text/html": [
       "<div>\n",
       "<style scoped>\n",
       "    .dataframe tbody tr th:only-of-type {\n",
       "        vertical-align: middle;\n",
       "    }\n",
       "\n",
       "    .dataframe tbody tr th {\n",
       "        vertical-align: top;\n",
       "    }\n",
       "\n",
       "    .dataframe thead th {\n",
       "        text-align: right;\n",
       "    }\n",
       "</style>\n",
       "<table border=\"1\" class=\"dataframe\">\n",
       "  <thead>\n",
       "    <tr style=\"text-align: right;\">\n",
       "      <th></th>\n",
       "      <th>Restaurant</th>\n",
       "      <th>Item</th>\n",
       "      <th>Calories</th>\n",
       "      <th>Classification</th>\n",
       "    </tr>\n",
       "  </thead>\n",
       "  <tbody>\n",
       "    <tr>\n",
       "      <th>0</th>\n",
       "      <td>salsaritas</td>\n",
       "      <td>Amber Ale</td>\n",
       "      <td>166.0</td>\n",
       "      <td>beverage</td>\n",
       "    </tr>\n",
       "    <tr>\n",
       "      <th>1</th>\n",
       "      <td>salsaritas</td>\n",
       "      <td>Bud Light</td>\n",
       "      <td>103.0</td>\n",
       "      <td>Beverage</td>\n",
       "    </tr>\n",
       "    <tr>\n",
       "      <th>2</th>\n",
       "      <td>salsaritas</td>\n",
       "      <td>Budweiser</td>\n",
       "      <td>170.0</td>\n",
       "      <td>Beverage</td>\n",
       "    </tr>\n",
       "    <tr>\n",
       "      <th>3</th>\n",
       "      <td>salsaritas</td>\n",
       "      <td>Classic Margarita</td>\n",
       "      <td>360.0</td>\n",
       "      <td>beverage</td>\n",
       "    </tr>\n",
       "    <tr>\n",
       "      <th>4</th>\n",
       "      <td>salsaritas</td>\n",
       "      <td>Frozen Margarita</td>\n",
       "      <td>300.0</td>\n",
       "      <td>beverage</td>\n",
       "    </tr>\n",
       "  </tbody>\n",
       "</table>\n",
       "</div>"
      ],
      "text/plain": [
       "   Restaurant               Item  Calories Classification\n",
       "0  salsaritas          Amber Ale     166.0       beverage\n",
       "1  salsaritas          Bud Light     103.0       Beverage\n",
       "2  salsaritas          Budweiser     170.0       Beverage\n",
       "3  salsaritas  Classic Margarita     360.0       beverage\n",
       "4  salsaritas   Frozen Margarita     300.0       beverage"
      ]
     },
     "execution_count": 47,
     "metadata": {},
     "output_type": "execute_result"
    }
   ],
   "source": [
    "df.head()"
   ]
  },
  {
   "cell_type": "code",
   "execution_count": 48,
   "id": "f7b48aed-2bfa-4180-8754-a54deae1b84b",
   "metadata": {},
   "outputs": [
    {
     "name": "stderr",
     "output_type": "stream",
     "text": [
      "/var/folders/_6/p9nq2tdd6418xp1vt5dxwqhm0000gn/T/ipykernel_20000/242626680.py:1: FutureWarning: DataFrame.applymap has been deprecated. Use DataFrame.map instead.\n",
      "  df = df.applymap(lambda x: x.strip() if isinstance(x, str) else x)\n"
     ]
    }
   ],
   "source": [
    "df = df.applymap(lambda x: x.strip() if isinstance(x, str) else x)"
   ]
  },
  {
   "cell_type": "code",
   "execution_count": 49,
   "id": "2f70f8bd-96c3-493f-b105-76a0a765699e",
   "metadata": {},
   "outputs": [
    {
     "data": {
      "text/html": [
       "<div>\n",
       "<style scoped>\n",
       "    .dataframe tbody tr th:only-of-type {\n",
       "        vertical-align: middle;\n",
       "    }\n",
       "\n",
       "    .dataframe tbody tr th {\n",
       "        vertical-align: top;\n",
       "    }\n",
       "\n",
       "    .dataframe thead th {\n",
       "        text-align: right;\n",
       "    }\n",
       "</style>\n",
       "<table border=\"1\" class=\"dataframe\">\n",
       "  <thead>\n",
       "    <tr style=\"text-align: right;\">\n",
       "      <th></th>\n",
       "      <th>Restaurant</th>\n",
       "      <th>Item</th>\n",
       "      <th>Calories</th>\n",
       "      <th>Classification</th>\n",
       "    </tr>\n",
       "  </thead>\n",
       "  <tbody>\n",
       "    <tr>\n",
       "      <th>0</th>\n",
       "      <td>salsaritas</td>\n",
       "      <td>Amber Ale</td>\n",
       "      <td>166.0</td>\n",
       "      <td>beverage</td>\n",
       "    </tr>\n",
       "    <tr>\n",
       "      <th>1</th>\n",
       "      <td>salsaritas</td>\n",
       "      <td>Bud Light</td>\n",
       "      <td>103.0</td>\n",
       "      <td>Beverage</td>\n",
       "    </tr>\n",
       "    <tr>\n",
       "      <th>2</th>\n",
       "      <td>salsaritas</td>\n",
       "      <td>Budweiser</td>\n",
       "      <td>170.0</td>\n",
       "      <td>Beverage</td>\n",
       "    </tr>\n",
       "    <tr>\n",
       "      <th>3</th>\n",
       "      <td>salsaritas</td>\n",
       "      <td>Classic Margarita</td>\n",
       "      <td>360.0</td>\n",
       "      <td>beverage</td>\n",
       "    </tr>\n",
       "    <tr>\n",
       "      <th>4</th>\n",
       "      <td>salsaritas</td>\n",
       "      <td>Frozen Margarita</td>\n",
       "      <td>300.0</td>\n",
       "      <td>beverage</td>\n",
       "    </tr>\n",
       "  </tbody>\n",
       "</table>\n",
       "</div>"
      ],
      "text/plain": [
       "   Restaurant               Item  Calories Classification\n",
       "0  salsaritas          Amber Ale     166.0       beverage\n",
       "1  salsaritas          Bud Light     103.0       Beverage\n",
       "2  salsaritas          Budweiser     170.0       Beverage\n",
       "3  salsaritas  Classic Margarita     360.0       beverage\n",
       "4  salsaritas   Frozen Margarita     300.0       beverage"
      ]
     },
     "execution_count": 49,
     "metadata": {},
     "output_type": "execute_result"
    }
   ],
   "source": [
    "df.head()"
   ]
  },
  {
   "cell_type": "code",
   "execution_count": 50,
   "id": "46a72ece-5be3-4381-87d4-5156edda62fd",
   "metadata": {},
   "outputs": [
    {
     "name": "stdout",
     "output_type": "stream",
     "text": [
      "Unique values of Classification before standardization: ['beverage' 'Beverage' 'main' 'Side' 'Dessert' 'Main' 'Topping' 'side'\n",
      " 'topping' 'Toppping' 'Topping.' 'Bevarage' 'dessert' 'Sauce' 'Main dish'\n",
      " 'Main.' 'Spread/topping' 'Dressing' 'Appetizer' 'Topning' 'Snack'\n",
      " 'Toppling' 'Side.' 'Sauce/dressing' 'Spread' 'Dessert.' 'Main dish.'\n",
      " 'Bevverage' 'Soup' 'Beverage.' 'Condiment' 'Maindish' 'Main course'\n",
      " 'Topging' 'Dip' 'Topming' 'Appetizer.']\n"
     ]
    }
   ],
   "source": [
    "print(\"Unique values of Classification before standardization:\", df['Classification'].unique())"
   ]
  },
  {
   "cell_type": "code",
   "execution_count": 51,
   "id": "141a5756-619a-4c1f-8cb5-a98213c41780",
   "metadata": {},
   "outputs": [],
   "source": [
    "# Function to standardize the classification values\n",
    "def standardize_classification(value):\n",
    "    value = value.lower().strip()  # Convert to lowercase and strip whitespaces\n",
    "    if value in ['main', 'side', 'beverage', 'dessert', 'topping']:\n",
    "        return value\n",
    "    if value in ['Beverage', 'Bevarage', 'bevarage', 'bevverage', 'beverage.']:\n",
    "        return 'beverage'\n",
    "    if value in ['toppping', 'sauce', 'Sauce', 'Spread/topping', 'Dressing', 'Topning', 'Toppling', \n",
    "                 'Sauce/dressing', 'spread', 'Condiment', 'Topging', 'Dip', 'Topming', 'topping.', 'dressing', 'spread/topping', 'topning',\n",
    "                'toppling', 'sauce/dressing', 'condiment', 'topging', 'dip', 'topming']:\n",
    "        return 'topping'\n",
    "    if value in ['Main dish', 'Main.' 'Main dish.', 'Maindish', 'Main course', 'Appetizer', 'Appetizer.', 'Soup', 'appetizer',\n",
    "                'main course', 'main dish', 'appetizer.', 'maindish', 'main dish.', 'main.', 'soup']:\n",
    "        return 'main'\n",
    "    if value in ['Side.', 'Snack', 'snack', 'side.']:\n",
    "        return 'side'\n",
    "    if value in ['dessert.']:\n",
    "        return 'dessert'\n",
    "    return value\n",
    "        \n",
    "# Apply the standardization function to the 'Classification' column\n",
    "df['Classification'] = df['Classification'].apply(standardize_classification)"
   ]
  },
  {
   "cell_type": "code",
   "execution_count": 52,
   "id": "268cbde9-81af-49bb-95b6-11986f2d969b",
   "metadata": {},
   "outputs": [
    {
     "name": "stdout",
     "output_type": "stream",
     "text": [
      "Unique values after standardization: ['beverage' 'main' 'side' 'dessert' 'topping']\n"
     ]
    }
   ],
   "source": [
    "print(\"Unique values after standardization:\", df['Classification'].unique())"
   ]
  },
  {
   "cell_type": "code",
   "execution_count": 53,
   "id": "ee9a6aaa-99fe-43f4-9acb-a15621637fea",
   "metadata": {},
   "outputs": [
    {
     "name": "stdout",
     "output_type": "stream",
     "text": [
      "Number of None values in 'Classification': 0\n",
      "Rows with None values in 'Classification':\n",
      "Empty DataFrame\n",
      "Columns: [Restaurant, Item, Calories, Classification]\n",
      "Index: []\n"
     ]
    }
   ],
   "source": [
    "# Count the number of None values in the Classification column\n",
    "none_count = df['Classification'].isnull().sum()\n",
    "print(f\"Number of None values in 'Classification': {none_count}\")\n",
    "\n",
    "# Display rows with None values in the Classification column\n",
    "none_rows = df[df['Classification'].isnull()]\n",
    "print(\"Rows with None values in 'Classification':\")\n",
    "print(none_rows)"
   ]
  },
  {
   "cell_type": "code",
   "execution_count": null,
   "id": "45ed06f6-1645-4679-a92e-3d60ea6d1c25",
   "metadata": {},
   "outputs": [],
   "source": []
  },
  {
   "cell_type": "code",
   "execution_count": null,
   "id": "fd74d4a6-b518-415d-aec3-5b93cad53cdf",
   "metadata": {},
   "outputs": [],
   "source": []
  },
  {
   "cell_type": "code",
   "execution_count": null,
   "id": "332f111f-a9c0-40ae-a9eb-48a4e512de3d",
   "metadata": {},
   "outputs": [],
   "source": []
  },
  {
   "cell_type": "code",
   "execution_count": null,
   "id": "36cc248d-8443-413b-899d-6f6cd1cf230f",
   "metadata": {},
   "outputs": [],
   "source": []
  },
  {
   "cell_type": "code",
   "execution_count": null,
   "id": "a2346215-7102-4809-82d5-bc577ae8f14e",
   "metadata": {},
   "outputs": [],
   "source": []
  },
  {
   "cell_type": "code",
   "execution_count": null,
   "id": "aafcf13f-c80d-4795-92e7-0a252ad46576",
   "metadata": {},
   "outputs": [],
   "source": [
    "df.to_csv('/Users/pintoza/Desktop/dev/data-science/fast-food-nutrition/data/processed/final', index=False)"
   ]
  }
 ],
 "metadata": {
  "kernelspec": {
   "display_name": "Python 3 (ipykernel)",
   "language": "python",
   "name": "python3"
  },
  "language_info": {
   "codemirror_mode": {
    "name": "ipython",
    "version": 3
   },
   "file_extension": ".py",
   "mimetype": "text/x-python",
   "name": "python",
   "nbconvert_exporter": "python",
   "pygments_lexer": "ipython3",
   "version": "3.11.8"
  }
 },
 "nbformat": 4,
 "nbformat_minor": 5
}
